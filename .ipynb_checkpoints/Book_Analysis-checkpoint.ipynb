{
 "cells": [
  {
   "cell_type": "markdown",
   "id": "51b63860-5dc3-4da7-81c2-1207526c6e52",
   "metadata": {},
   "source": [
    "# Load the book"
   ]
  },
  {
   "cell_type": "code",
   "execution_count": 8,
   "id": "ab405754-5555-4813-bd2f-187546fe6af9",
   "metadata": {},
   "outputs": [],
   "source": [
    "with open(\"miracle_in_the_andes.txt\", \"r\", encoding=\"utf8\") as file:\n",
    "    book = file.read()"
   ]
  },
  {
   "cell_type": "markdown",
   "id": "ca0e231f-22c2-4c02-932d-b64fbb0fa6d1",
   "metadata": {},
   "source": [
    "type(book)"
   ]
  },
  {
   "cell_type": "markdown",
   "id": "e1ff12c7-e6b5-412a-93f1-81b04170ecd3",
   "metadata": {},
   "source": [
    "# How many chapters?"
   ]
  },
  {
   "cell_type": "markdown",
   "id": "6647a067-0359-44cc-939c-47271f5b870f",
   "metadata": {},
   "source": [
    "### With string methods"
   ]
  },
  {
   "cell_type": "code",
   "execution_count": 12,
   "id": "797f3b16-c9a7-407f-b89c-8870c2897e2b",
   "metadata": {},
   "outputs": [
    {
     "data": {
      "text/plain": [
       "11"
      ]
     },
     "execution_count": 12,
     "metadata": {},
     "output_type": "execute_result"
    }
   ],
   "source": [
    "book.count(\"Chapter\")"
   ]
  },
  {
   "cell_type": "markdown",
   "id": "f3fb42e7-4146-412c-b677-49d04f660f7d",
   "metadata": {},
   "source": [
    "### With regex"
   ]
  },
  {
   "cell_type": "code",
   "execution_count": 13,
   "id": "0d906aa8-7322-4646-8c8d-0cb3d47ddd03",
   "metadata": {},
   "outputs": [],
   "source": [
    "import re"
   ]
  },
  {
   "cell_type": "code",
   "execution_count": 19,
   "id": "e36b3143-b20c-4387-ad4a-d1e663a94597",
   "metadata": {},
   "outputs": [
    {
     "data": {
      "text/plain": [
       "10"
      ]
     },
     "execution_count": 19,
     "metadata": {},
     "output_type": "execute_result"
    }
   ],
   "source": [
    "pattern = re.compile(\"Chapter [0-9]+\")\n",
    "findings = re.findall(pattern, book)\n",
    "len(findings)"
   ]
  },
  {
   "cell_type": "markdown",
   "id": "a0bd74fe-480e-471b-ac95-589b6802aaee",
   "metadata": {},
   "source": [
    "# Which are the sentences where \"love\" was used?"
   ]
  },
  {
   "cell_type": "code",
   "execution_count": 26,
   "id": "382218bc-aa3d-406e-a5e1-8f5f9ae418d4",
   "metadata": {},
   "outputs": [
    {
     "data": {
      "text/plain": [
       "[' As a young man, of course, I could not put these things into words, but I knew, and my teammates knew, that there was something special about the game, and under the guidance of the Christian Brothers we developed a passionate love for',\n",
       " ' Guido and I grew up together, playing soccer and sharing a love of',\n",
       " ' Under the guidance of the Christian Brothers, both of us grew to love the',\n",
       " ', when he met and fell in love with',\n",
       " ' I believe he had a great hunger for the love and',\n",
       " ' He shared, with my father and me, a love for',\n",
       " ' The house had a beautiful view of the sea, and this more than anything made my mother love it',\n",
       " ' She was a true tower of strength, but her strength was always based in warmth and love and because of her love and',\n",
       " ' He had given us a life of comfort and privilege such as his own father never could have imagined, he had provided for us and protected us in the best way he could, and though he was not an emotionally expressive man, he always showed his love for',\n",
       " ' Out of love for',\n",
       " 's love for',\n",
       " ' When she was sixteen she spent a year as an exchange student living with a family in Florida, an experience that taught her to love the',\n",
       " ' As I lay beside her, the sweetness of my love for',\n",
       " ' I pressed my cheek against hers so I could feel her warm breath on my face, and held her that way all night, gently, but very close, never letting go, embracing her as if I were embracing all the love and',\n",
       " ' I felt my love for',\n",
       " 'In the days after Susy died, my love for',\n",
       " 'Thinking of my father this way always triggered in me a burst of love so',\n",
       " ' She worried constantly about the children she had left at home, but still she had the courage and love to',\n",
       " ' It was our job to follow His commandments, to take the sacraments, to love God and to love others',\n",
       " ' I would think of him and let my heart fill with love for him, and this love would',\n",
       " ' After two weeks on the mountain, my love for',\n",
       " 'All we can do is love God and love others',\n",
       " ' Even if we are trapped here forever, we can love our',\n",
       " 'You will tell my family that I love them',\n",
       " ' But he lived so many lifetimes, had so many adventures, and, macho, he made love to',\n",
       " ' The shoes were magical for me because my mother had chosen them with such love for',\n",
       " ' My love for',\n",
       " ' Only love can',\n",
       " ' I would walk through the godforsaken country that separated me from my home with love and',\n",
       " 'the love of',\n",
       " ' My ordeal had simplified my mind and whittled me down very close to the essence of what I was, and now I saw that this longing, this love and',\n",
       " ' In seconds she was in my arms, and my heart swelled with love as',\n",
       " 'There was so much I wanted to tell him, that I had thought of him every moment, that his love had',\n",
       " 'I love it',\n",
       " ' She stepped off the train with only a backpack and a small duffel, looking very beautiful, and I fell in love with',\n",
       " ' Until then, I had thought I could never love anything',\n",
       " 's face, I was struck senseless by my love for',\n",
       " 'I had been given so much love and',\n",
       " ' He was never an openly affectionate man, but I never doubted his love when',\n",
       " ' When I was in the mountains, stranded in the shadows of death, that love was',\n",
       " ' As long as I held on to that love, I was not lost, I was connected to my home and to my future, and in the end it was that strong cord of love that',\n",
       " ' There was love, the love in my heart, and for one incredible moment, as I felt this love swell',\n",
       " ' I love to',\n",
       " ' I believe life should be enjoyed, but my experiences have taught me that without the love of',\n",
       " ' I savor them and let each one become a miniature eternity, and by living these small moments of my life so fully, I defy the shadow of death that hovers over all of us, I reaffirm my love and',\n",
       " ' I open myself to it, I try to direct that tide of love toward',\n",
       " ' In the mountains, it was love that',\n",
       " ' I had no expertise to draw on, so I relied upon the trust I felt in my love for',\n",
       " ' Now I am convinced that if there is something divine in the universe, the only way I will find it is through the love I',\n",
       " ' I have tried to love my']"
      ]
     },
     "execution_count": 26,
     "metadata": {},
     "output_type": "execute_result"
    }
   ],
   "source": [
    "pattern = re.compile(\"[^.]* love [a-zA-Z]*\")\n",
    "findings = re.findall(pattern, book)\n",
    "findings"
   ]
  }
 ],
 "metadata": {
  "kernelspec": {
   "display_name": "Python 3 (ipykernel)",
   "language": "python",
   "name": "python3"
  },
  "language_info": {
   "codemirror_mode": {
    "name": "ipython",
    "version": 3
   },
   "file_extension": ".py",
   "mimetype": "text/x-python",
   "name": "python",
   "nbconvert_exporter": "python",
   "pygments_lexer": "ipython3",
   "version": "3.10.0"
  }
 },
 "nbformat": 4,
 "nbformat_minor": 5
}
